{
 "cells": [
  {
   "cell_type": "code",
   "execution_count": 1,
   "metadata": {},
   "outputs": [],
   "source": [
    "import os\n",
    "import pandas as pd\n"
   ]
  },
  {
   "cell_type": "code",
   "execution_count": 2,
   "metadata": {},
   "outputs": [],
   "source": [
    "food_inspection_df = pd.read_csv (\"food-inspections.csv\")"
   ]
  },
  {
   "cell_type": "code",
   "execution_count": 3,
   "metadata": {},
   "outputs": [
    {
     "data": {
      "text/html": [
       "<div>\n",
       "<style scoped>\n",
       "    .dataframe tbody tr th:only-of-type {\n",
       "        vertical-align: middle;\n",
       "    }\n",
       "\n",
       "    .dataframe tbody tr th {\n",
       "        vertical-align: top;\n",
       "    }\n",
       "\n",
       "    .dataframe thead th {\n",
       "        text-align: right;\n",
       "    }\n",
       "</style>\n",
       "<table border=\"1\" class=\"dataframe\">\n",
       "  <thead>\n",
       "    <tr style=\"text-align: right;\">\n",
       "      <th></th>\n",
       "      <th>Inspection ID</th>\n",
       "      <th>DBA Name</th>\n",
       "      <th>AKA Name</th>\n",
       "      <th>License #</th>\n",
       "      <th>Facility Type</th>\n",
       "      <th>Risk</th>\n",
       "      <th>Address</th>\n",
       "      <th>City</th>\n",
       "      <th>State</th>\n",
       "      <th>Zip</th>\n",
       "      <th>...</th>\n",
       "      <th>Results</th>\n",
       "      <th>Violations</th>\n",
       "      <th>Latitude</th>\n",
       "      <th>Longitude</th>\n",
       "      <th>Location</th>\n",
       "      <th>Historical Wards 2003-2015</th>\n",
       "      <th>Zip Codes</th>\n",
       "      <th>Community Areas</th>\n",
       "      <th>Census Tracts</th>\n",
       "      <th>Wards</th>\n",
       "    </tr>\n",
       "  </thead>\n",
       "  <tbody>\n",
       "    <tr>\n",
       "      <th>0</th>\n",
       "      <td>2288615</td>\n",
       "      <td>SABROSO</td>\n",
       "      <td>SABROSO</td>\n",
       "      <td>2664160.0</td>\n",
       "      <td>Restaurant</td>\n",
       "      <td>Risk 1 (High)</td>\n",
       "      <td>624 N ASHLAND AVE</td>\n",
       "      <td>CHICAGO</td>\n",
       "      <td>IL</td>\n",
       "      <td>60622.0</td>\n",
       "      <td>...</td>\n",
       "      <td>Pass w/ Conditions</td>\n",
       "      <td>3. MANAGEMENT, FOOD EMPLOYEE AND CONDITIONAL E...</td>\n",
       "      <td>41.893250</td>\n",
       "      <td>-87.667356</td>\n",
       "      <td>{'latitude': '41.893249885934495', 'longitude'...</td>\n",
       "      <td>24.0</td>\n",
       "      <td>21560.0</td>\n",
       "      <td>25.0</td>\n",
       "      <td>520.0</td>\n",
       "      <td>41.0</td>\n",
       "    </tr>\n",
       "    <tr>\n",
       "      <th>1</th>\n",
       "      <td>2288592</td>\n",
       "      <td>PINK TOWER MONTESSORI SCHOOL</td>\n",
       "      <td>PINK TOWER MONTESSORI SCHOOL</td>\n",
       "      <td>2457655.0</td>\n",
       "      <td>Children's Services Facility</td>\n",
       "      <td>Risk 1 (High)</td>\n",
       "      <td>3420 N ELSTON AVE</td>\n",
       "      <td>CHICAGO</td>\n",
       "      <td>IL</td>\n",
       "      <td>60618.0</td>\n",
       "      <td>...</td>\n",
       "      <td>Pass w/ Conditions</td>\n",
       "      <td>3. MANAGEMENT, FOOD EMPLOYEE AND CONDITIONAL E...</td>\n",
       "      <td>41.943078</td>\n",
       "      <td>-87.703898</td>\n",
       "      <td>{'latitude': '41.943077977197895', 'longitude'...</td>\n",
       "      <td>2.0</td>\n",
       "      <td>21538.0</td>\n",
       "      <td>22.0</td>\n",
       "      <td>425.0</td>\n",
       "      <td>20.0</td>\n",
       "    </tr>\n",
       "    <tr>\n",
       "      <th>2</th>\n",
       "      <td>2288595</td>\n",
       "      <td>POLITAN ROW</td>\n",
       "      <td>POLITAN ROW</td>\n",
       "      <td>2621900.0</td>\n",
       "      <td>Restaurant</td>\n",
       "      <td>Risk 3 (Low)</td>\n",
       "      <td>111 N ABERDEEN ST</td>\n",
       "      <td>CHICAGO</td>\n",
       "      <td>IL</td>\n",
       "      <td>60607.0</td>\n",
       "      <td>...</td>\n",
       "      <td>Pass w/ Conditions</td>\n",
       "      <td>3. MANAGEMENT, FOOD EMPLOYEE AND CONDITIONAL E...</td>\n",
       "      <td>41.883370</td>\n",
       "      <td>-87.654261</td>\n",
       "      <td>{'latitude': '41.883370342897926', 'longitude'...</td>\n",
       "      <td>41.0</td>\n",
       "      <td>14917.0</td>\n",
       "      <td>29.0</td>\n",
       "      <td>63.0</td>\n",
       "      <td>46.0</td>\n",
       "    </tr>\n",
       "    <tr>\n",
       "      <th>3</th>\n",
       "      <td>2288613</td>\n",
       "      <td>ANTHONY'S DINER</td>\n",
       "      <td>ANTHONY'S DINER</td>\n",
       "      <td>2664063.0</td>\n",
       "      <td>Restaurant</td>\n",
       "      <td>Risk 1 (High)</td>\n",
       "      <td>7544 W ADDISON ST</td>\n",
       "      <td>CHICAGO</td>\n",
       "      <td>IL</td>\n",
       "      <td>60634.0</td>\n",
       "      <td>...</td>\n",
       "      <td>Fail</td>\n",
       "      <td>3. MANAGEMENT, FOOD EMPLOYEE AND CONDITIONAL E...</td>\n",
       "      <td>41.945226</td>\n",
       "      <td>-87.816074</td>\n",
       "      <td>{'latitude': '41.945225909077436', 'longitude'...</td>\n",
       "      <td>39.0</td>\n",
       "      <td>22254.0</td>\n",
       "      <td>17.0</td>\n",
       "      <td>392.0</td>\n",
       "      <td>19.0</td>\n",
       "    </tr>\n",
       "    <tr>\n",
       "      <th>4</th>\n",
       "      <td>2288630</td>\n",
       "      <td>EL NUEVO PUERTO MARISCOS AND GRILL</td>\n",
       "      <td>EL NUEVO PUERTO MARISCOS AND GRILL</td>\n",
       "      <td>2664156.0</td>\n",
       "      <td>Restaurant</td>\n",
       "      <td>Risk 1 (High)</td>\n",
       "      <td>2752 W LAWRENCE AVE</td>\n",
       "      <td>CHICAGO</td>\n",
       "      <td>IL</td>\n",
       "      <td>60625.0</td>\n",
       "      <td>...</td>\n",
       "      <td>Pass</td>\n",
       "      <td>47. FOOD &amp; NON-FOOD CONTACT SURFACES CLEANABLE...</td>\n",
       "      <td>41.968645</td>\n",
       "      <td>-87.698286</td>\n",
       "      <td>{'latitude': '41.968644613011605', 'longitude'...</td>\n",
       "      <td>46.0</td>\n",
       "      <td>21849.0</td>\n",
       "      <td>6.0</td>\n",
       "      <td>28.0</td>\n",
       "      <td>24.0</td>\n",
       "    </tr>\n",
       "  </tbody>\n",
       "</table>\n",
       "<p>5 rows × 22 columns</p>\n",
       "</div>"
      ],
      "text/plain": [
       "   Inspection ID                            DBA Name  \\\n",
       "0        2288615                             SABROSO   \n",
       "1        2288592        PINK TOWER MONTESSORI SCHOOL   \n",
       "2        2288595                         POLITAN ROW   \n",
       "3        2288613                     ANTHONY'S DINER   \n",
       "4        2288630  EL NUEVO PUERTO MARISCOS AND GRILL   \n",
       "\n",
       "                             AKA Name  License #  \\\n",
       "0                             SABROSO  2664160.0   \n",
       "1        PINK TOWER MONTESSORI SCHOOL  2457655.0   \n",
       "2                         POLITAN ROW  2621900.0   \n",
       "3                     ANTHONY'S DINER  2664063.0   \n",
       "4  EL NUEVO PUERTO MARISCOS AND GRILL  2664156.0   \n",
       "\n",
       "                  Facility Type           Risk               Address     City  \\\n",
       "0                    Restaurant  Risk 1 (High)    624 N ASHLAND AVE   CHICAGO   \n",
       "1  Children's Services Facility  Risk 1 (High)    3420 N ELSTON AVE   CHICAGO   \n",
       "2                    Restaurant   Risk 3 (Low)    111 N ABERDEEN ST   CHICAGO   \n",
       "3                    Restaurant  Risk 1 (High)    7544 W ADDISON ST   CHICAGO   \n",
       "4                    Restaurant  Risk 1 (High)  2752 W LAWRENCE AVE   CHICAGO   \n",
       "\n",
       "  State      Zip  ...               Results  \\\n",
       "0    IL  60622.0  ...    Pass w/ Conditions   \n",
       "1    IL  60618.0  ...    Pass w/ Conditions   \n",
       "2    IL  60607.0  ...    Pass w/ Conditions   \n",
       "3    IL  60634.0  ...                  Fail   \n",
       "4    IL  60625.0  ...                  Pass   \n",
       "\n",
       "                                          Violations   Latitude  Longitude  \\\n",
       "0  3. MANAGEMENT, FOOD EMPLOYEE AND CONDITIONAL E...  41.893250 -87.667356   \n",
       "1  3. MANAGEMENT, FOOD EMPLOYEE AND CONDITIONAL E...  41.943078 -87.703898   \n",
       "2  3. MANAGEMENT, FOOD EMPLOYEE AND CONDITIONAL E...  41.883370 -87.654261   \n",
       "3  3. MANAGEMENT, FOOD EMPLOYEE AND CONDITIONAL E...  41.945226 -87.816074   \n",
       "4  47. FOOD & NON-FOOD CONTACT SURFACES CLEANABLE...  41.968645 -87.698286   \n",
       "\n",
       "                                            Location  \\\n",
       "0  {'latitude': '41.893249885934495', 'longitude'...   \n",
       "1  {'latitude': '41.943077977197895', 'longitude'...   \n",
       "2  {'latitude': '41.883370342897926', 'longitude'...   \n",
       "3  {'latitude': '41.945225909077436', 'longitude'...   \n",
       "4  {'latitude': '41.968644613011605', 'longitude'...   \n",
       "\n",
       "   Historical Wards 2003-2015 Zip Codes  Community Areas  Census Tracts  Wards  \n",
       "0                        24.0   21560.0             25.0          520.0   41.0  \n",
       "1                         2.0   21538.0             22.0          425.0   20.0  \n",
       "2                        41.0   14917.0             29.0           63.0   46.0  \n",
       "3                        39.0   22254.0             17.0          392.0   19.0  \n",
       "4                        46.0   21849.0              6.0           28.0   24.0  \n",
       "\n",
       "[5 rows x 22 columns]"
      ]
     },
     "execution_count": 3,
     "metadata": {},
     "output_type": "execute_result"
    }
   ],
   "source": [
    "food_inspection_df.head()"
   ]
  },
  {
   "cell_type": "code",
   "execution_count": 4,
   "metadata": {},
   "outputs": [
    {
     "data": {
      "text/plain": [
       "(186763, 22)"
      ]
     },
     "execution_count": 4,
     "metadata": {},
     "output_type": "execute_result"
    }
   ],
   "source": [
    "food_inspection_df.shape\n"
   ]
  },
  {
   "cell_type": "code",
   "execution_count": 5,
   "metadata": {},
   "outputs": [],
   "source": [
    "inspection_distinct = food_inspection_df[\"License #\"].unique()"
   ]
  },
  {
   "cell_type": "code",
   "execution_count": 6,
   "metadata": {},
   "outputs": [
    {
     "data": {
      "text/plain": [
       "(36321,)"
      ]
     },
     "execution_count": 6,
     "metadata": {},
     "output_type": "execute_result"
    }
   ],
   "source": [
    "inspection_distinct.shape\n"
   ]
  },
  {
   "cell_type": "code",
   "execution_count": 8,
   "metadata": {},
   "outputs": [
    {
     "data": {
      "text/plain": [
       "array([2664160., 2457655., 2621900., ...,   61801., 1998048., 1992040.])"
      ]
     },
     "execution_count": 8,
     "metadata": {},
     "output_type": "execute_result"
    }
   ],
   "source": []
  },
  {
   "cell_type": "code",
   "execution_count": null,
   "metadata": {},
   "outputs": [],
   "source": []
  }
 ],
 "metadata": {
  "kernelspec": {
   "display_name": "Python 3",
   "language": "python",
   "name": "python3"
  },
  "language_info": {
   "codemirror_mode": {
    "name": "ipython",
    "version": 3
   },
   "file_extension": ".py",
   "mimetype": "text/x-python",
   "name": "python",
   "nbconvert_exporter": "python",
   "pygments_lexer": "ipython3",
   "version": "3.6.6"
  }
 },
 "nbformat": 4,
 "nbformat_minor": 2
}
